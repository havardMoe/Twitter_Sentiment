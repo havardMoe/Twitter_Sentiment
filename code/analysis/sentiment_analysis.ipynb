{
 "cells": [
  {
   "cell_type": "code",
   "execution_count": 3,
   "metadata": {},
   "outputs": [],
   "source": [
    "from pyspark.sql import SparkSession\n",
    "from textblob import TextBlob\n",
    "from pyspark.sql.functions import udf,col\n",
    "from pyspark.sql.types import StringType, FloatType\n",
    "from vaderSentiment.vaderSentiment import SentimentIntensityAnalyzer\n"
   ]
  },
  {
   "cell_type": "code",
   "execution_count": 4,
   "metadata": {},
   "outputs": [
    {
     "name": "stderr",
     "output_type": "stream",
     "text": [
      "22/04/09 20:15:37 WARN NativeCodeLoader: Unable to load native-hadoop library for your platform... using builtin-java classes where applicable\n",
      "Setting default log level to \"WARN\".\n",
      "To adjust logging level use sc.setLogLevel(newLevel). For SparkR, use setLogLevel(newLevel).\n"
     ]
    },
    {
     "name": "stdout",
     "output_type": "stream",
     "text": [
      "+------------+\n",
      "|   namespace|\n",
      "+------------+\n",
      "|     default|\n",
      "|twitter_data|\n",
      "+------------+\n",
      "\n"
     ]
    }
   ],
   "source": [
    "spark = SparkSession \\\n",
    "        .builder \\\n",
    "        .master('spark://10.10.28.172:7077') \\\n",
    "        .appName('pre_processing') \\\n",
    "        .enableHiveSupport() \\\n",
    "        .config(\"spark.pyfiles\", \"preproc_functions.py\") \\\n",
    "        .getOrCreate()\n",
    "\n",
    "# Preventing errors of having too many settings in hive-site.xml\n",
    "spark.sparkContext.setLogLevel('OFF')\n",
    "#spark.sparkContext.addPyFile(\"preproc_functions.py\")\n",
    "# name of database\n",
    "spark.sql('use twitter_data')"
   ]
  },
  {
   "cell_type": "code",
   "execution_count": 11,
   "metadata": {},
   "outputs": [],
   "source": [
    "query = 'SELECT * FROM processed_data'\n",
    "\n",
    "df = spark.sql(query)"
   ]
  },
  {
   "cell_type": "code",
   "execution_count": 12,
   "metadata": {},
   "outputs": [],
   "source": [
    "#text = \"Hello I lve the news!\"\n",
    "\n",
    "def sentiment_tblob(text):\n",
    "    return TextBlob(text).sentiment.polarity\n",
    "\n",
    "# Vader is twice as fast as textblob...\n",
    "def sentiment_vader(text):\n",
    "    analyzer = SentimentIntensityAnalyzer()\n",
    "    return analyzer.polarity_scores(text)\n",
    "    \n",
    "udf_sentiment = udf(lambda text: sentiment_tblob(text), FloatType())\n",
    "#sentiment_scores = df.select('id','text','created_at').withColumn('sentiment_score', udf_sentiment(col('text')))\n",
    "#sentiment_scores.show()\n",
    "sentiment_score = df.withColumn('sentiment',udf_sentiment('text')).select('id','created_at','sentiment','text').orderBy('created_at',ascending=False)"
   ]
  },
  {
   "cell_type": "code",
   "execution_count": 13,
   "metadata": {},
   "outputs": [
    {
     "name": "stderr",
     "output_type": "stream",
     "text": [
      "                                                                                \r"
     ]
    }
   ],
   "source": [
    "sentiment_score.write.mode(\"overwrite\").saveAsTable(\"twitter_data.sentiment_results\")"
   ]
  }
 ],
 "metadata": {
  "interpreter": {
   "hash": "31f2aee4e71d21fbe5cf8b01ff0e069b9275f58929596ceb00d14d90e3e16cd6"
  },
  "kernelspec": {
   "display_name": "Python 3.8.10 64-bit",
   "language": "python",
   "name": "python3"
  },
  "language_info": {
   "codemirror_mode": {
    "name": "ipython",
    "version": 3
   },
   "file_extension": ".py",
   "mimetype": "text/x-python",
   "name": "python",
   "nbconvert_exporter": "python",
   "pygments_lexer": "ipython3",
   "version": "3.8.10"
  },
  "orig_nbformat": 4
 },
 "nbformat": 4,
 "nbformat_minor": 2
}
