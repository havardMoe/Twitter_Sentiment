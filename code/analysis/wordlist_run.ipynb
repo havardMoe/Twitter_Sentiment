{
 "cells": [
  {
   "cell_type": "code",
   "execution_count": 1,
   "metadata": {},
   "outputs": [],
   "source": [
    "from pyspark.sql import SparkSession\n",
    "from pyspark.sql.functions import udf, col\n",
    "from pyspark.ml.feature import StopWordsRemover, Tokenizer\n",
    "from analysis import WordList\n",
    "from pyspark.sql.types import IntegerType, FloatType"
   ]
  },
  {
   "cell_type": "code",
   "execution_count": 2,
   "metadata": {},
   "outputs": [
    {
     "name": "stderr",
     "output_type": "stream",
     "text": [
      "22/04/11 09:32:26 WARN NativeCodeLoader: Unable to load native-hadoop library for your platform... using builtin-java classes where applicable\n",
      "Setting default log level to \"WARN\".\n",
      "To adjust logging level use sc.setLogLevel(newLevel). For SparkR, use setLogLevel(newLevel).\n"
     ]
    },
    {
     "name": "stdout",
     "output_type": "stream",
     "text": [
      "+------------+\n",
      "|   namespace|\n",
      "+------------+\n",
      "|     default|\n",
      "|twitter_data|\n",
      "+------------+\n",
      "\n"
     ]
    }
   ],
   "source": [
    "spark = SparkSession \\\n",
    "        .builder \\\n",
    "        .master('spark://10.10.28.172:7077') \\\n",
    "        .appName('sentiment_wordlist') \\\n",
    "        .enableHiveSupport() \\\n",
    "        .config(\"spark.pyfiles\", \"analysis.py\") \\\n",
    "        .getOrCreate()\n",
    "\n",
    "# Preventing errors of having unused settings in hive-site.xml\n",
    "spark.sparkContext.setLogLevel('OFF')\n",
    "# path of dependency file(s)\n",
    "spark.sparkContext.addPyFile(\"/home/ubuntu/twitter_sentiment/code/analysis/analysis.py\")\n",
    "\n",
    "spark.sql('show databases').show()"
   ]
  },
  {
   "cell_type": "code",
   "execution_count": 5,
   "metadata": {},
   "outputs": [
    {
     "name": "stdout",
     "output_type": "stream",
     "text": [
      "+------------+--------------------+-----------+\n",
      "|    database|           tableName|isTemporary|\n",
      "+------------+--------------------+-----------+\n",
      "|twitter_data|      processed_data|      false|\n",
      "|twitter_data|            raw_data|      false|\n",
      "|twitter_data|             results|      false|\n",
      "|twitter_data|temp_sentiment_re...|      false|\n",
      "|twitter_data|    textblob_results|      false|\n",
      "|twitter_data|       vader_results|      false|\n",
      "|twitter_data|wordlist2477_results|      false|\n",
      "+------------+--------------------+-----------+\n",
      "\n"
     ]
    }
   ],
   "source": [
    "spark.sql('use twitter_data')\n",
    "spark.sql('show tables').show()"
   ]
  },
  {
   "cell_type": "code",
   "execution_count": 6,
   "metadata": {},
   "outputs": [],
   "source": [
    "df = spark.sql('select * from processed_data')"
   ]
  },
  {
   "cell_type": "code",
   "execution_count": 24,
   "metadata": {},
   "outputs": [
    {
     "data": {
      "text/plain": [
       "'ive deleted my tweet about showing kharkiv as part of russia instead of ukraine fortunately turns out to have been a fake not an error at cnn'"
      ]
     },
     "execution_count": 24,
     "metadata": {},
     "output_type": "execute_result"
    }
   ],
   "source": [
    "fst = df.take(1)\n",
    "text = fst[0]['text']\n",
    "text"
   ]
  },
  {
   "cell_type": "code",
   "execution_count": 29,
   "metadata": {},
   "outputs": [],
   "source": [
    "wl = WordList(r'/home/ubuntu/twitter_sentiment/code/analysis/wordlists/wl2477.txt')\n",
    "wl.analyze(text)\n",
    "\n",
    "udf_wl_analyze = udf(lambda text: wl.analyze(text), IntegerType())"
   ]
  },
  {
   "cell_type": "code",
   "execution_count": 30,
   "metadata": {},
   "outputs": [
    {
     "name": "stderr",
     "output_type": "stream",
     "text": [
      "[Stage 18:>                                                         (0 + 1) / 1]\r"
     ]
    },
    {
     "name": "stdout",
     "output_type": "stream",
     "text": [
      "+---------------------------------------------------------------------------------------------------------------------------------------------+---------+\n",
      "|text                                                                                                                                         |sentiment|\n",
      "+---------------------------------------------------------------------------------------------------------------------------------------------+---------+\n",
      "|ive deleted my tweet about showing kharkiv as part of russia instead of ukraine fortunately turns out to have been a fake not an error at cnn|-5       |\n",
      "+---------------------------------------------------------------------------------------------------------------------------------------------+---------+\n",
      "only showing top 1 row\n",
      "\n"
     ]
    },
    {
     "name": "stderr",
     "output_type": "stream",
     "text": [
      "                                                                                \r"
     ]
    }
   ],
   "source": [
    "df.withColumn('sentiment', udf_wl_analyze('text')).select('text', 'sentiment').show(1, truncate=False)"
   ]
  }
 ],
 "metadata": {
  "interpreter": {
   "hash": "916dbcbb3f70747c44a77c7bcd40155683ae19c65e1c03b4aa3499c5328201f1"
  },
  "kernelspec": {
   "display_name": "Python 3.8.10 64-bit",
   "language": "python",
   "name": "python3"
  },
  "language_info": {
   "codemirror_mode": {
    "name": "ipython",
    "version": 3
   },
   "file_extension": ".py",
   "mimetype": "text/x-python",
   "name": "python",
   "nbconvert_exporter": "python",
   "pygments_lexer": "ipython3",
   "version": "3.8.10"
  },
  "orig_nbformat": 4
 },
 "nbformat": 4,
 "nbformat_minor": 2
}
