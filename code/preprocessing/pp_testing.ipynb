{
 "cells": [
  {
   "cell_type": "code",
   "execution_count": 7,
   "metadata": {},
   "outputs": [],
   "source": [
    "from pyspark.sql import SparkSession\n",
    "from pyspark.sql.functions import col, udf\n",
    "from pyspark.sql.types import StringType\n",
    "from preproc_functions import preprocess_all\n",
    "from pyspark.sql import functions as F\n",
    "import pandas as pd\n",
    "from preproc_functions import emoji_to_words\n",
    "\n",
    "spark = SparkSession \\\n",
    "        .builder \\\n",
    "        .master('spark://10.10.28.172:7077') \\\n",
    "        .appName('pre_processing') \\\n",
    "        .enableHiveSupport() \\\n",
    "        .config(\"spark.pyfiles\", \"preproc_functions.py\") \\\n",
    "        .getOrCreate()\n",
    "\n",
    "# Change to 'OFF' if it produces too much output\n",
    "spark.sparkContext.setLogLevel('OFF')  \n",
    "# files used for preprocessing\n",
    "spark.sparkContext.addPyFile(\"/home/ubuntu/twitter_sentiment/code/preproc_functions.py\")"
   ]
  },
  {
   "cell_type": "code",
   "execution_count": 8,
   "metadata": {},
   "outputs": [],
   "source": [
    "# name of database\n",
    "spark.sql('use twitter_data')\n",
    "\n",
    "query = '''\n",
    "    SELECT *\n",
    "    FROM raw_data\n",
    "    WHERE text IS NOT NULL\n",
    "    AND created_at IS NOT NULL\n",
    "    AND id IS NOT NULL\n",
    "'''\n",
    "\n",
    "raw_data = spark.sql(query)"
   ]
  },
  {
   "cell_type": "code",
   "execution_count": 9,
   "metadata": {},
   "outputs": [],
   "source": [
    "udf_preprocessing = udf(lambda text: preprocess_all(text), StringType())\n",
    "raw_data = raw_data.withColumn('text', udf_preprocessing(col('text')))"
   ]
  },
  {
   "cell_type": "code",
   "execution_count": 10,
   "metadata": {},
   "outputs": [],
   "source": [
    "data = raw_data.select(['id', 'text'])"
   ]
  },
  {
   "cell_type": "code",
   "execution_count": 11,
   "metadata": {},
   "outputs": [
    {
     "name": "stderr",
     "output_type": "stream",
     "text": [
      "[Stage 8:====================================================>     (9 + 1) / 10]\r"
     ]
    },
    {
     "name": "stdout",
     "output_type": "stream",
     "text": [
      "+--------------------+\n",
      "|                text|\n",
      "+--------------------+\n",
      "|Here's the play: ...|\n",
      "+--------------------+\n",
      "\n"
     ]
    },
    {
     "name": "stderr",
     "output_type": "stream",
     "text": [
      "                                                                                \r"
     ]
    }
   ],
   "source": [
    "spark.sql('select text from raw_data where id=1458961863723700231').show(5)"
   ]
  },
  {
   "cell_type": "markdown",
   "metadata": {},
   "source": [
    "### \n",
    "1. translates emojies\n",
    "2. removes user mentions\n",
    "3. removes urls\n",
    "4. removes all non-numerical characters\n",
    "5. all text to lowercase"
   ]
  },
  {
   "cell_type": "code",
   "execution_count": 12,
   "metadata": {},
   "outputs": [
    {
     "name": "stdout",
     "output_type": "stream",
     "text": [
      "+-------------------+--------------------+\n",
      "|                 id|                text|\n",
      "+-------------------+--------------------+\n",
      "|1486390083485843460|ive deleted my tw...|\n",
      "|1486390081246085125|oil hits highest ...|\n",
      "|1486390080956944385| did tucker carls...|\n",
      "|1486390059498713099| west supports la...|\n",
      "|1486390057896456200|russia wont invad...|\n",
      "+-------------------+--------------------+\n",
      "only showing top 5 rows\n",
      "\n"
     ]
    },
    {
     "name": "stderr",
     "output_type": "stream",
     "text": [
      "----------------------------------------\n",
      "Exception happened during processing of request from ('127.0.0.1', 52052)\n",
      "Traceback (most recent call last):\n",
      "  File \"/usr/lib/python3.8/socketserver.py\", line 316, in _handle_request_noblock\n",
      "    self.process_request(request, client_address)\n",
      "  File \"/usr/lib/python3.8/socketserver.py\", line 347, in process_request\n",
      "    self.finish_request(request, client_address)\n",
      "  File \"/usr/lib/python3.8/socketserver.py\", line 360, in finish_request\n",
      "    self.RequestHandlerClass(request, client_address, self)\n",
      "  File \"/usr/lib/python3.8/socketserver.py\", line 747, in __init__\n",
      "    self.handle()\n",
      "  File \"/home/ubuntu/.local/lib/python3.8/site-packages/pyspark/accumulators.py\", line 262, in handle\n",
      "    poll(accum_updates)\n",
      "  File \"/home/ubuntu/.local/lib/python3.8/site-packages/pyspark/accumulators.py\", line 235, in poll\n",
      "    if func():\n",
      "  File \"/home/ubuntu/.local/lib/python3.8/site-packages/pyspark/accumulators.py\", line 239, in accum_updates\n",
      "    num_updates = read_int(self.rfile)\n",
      "  File \"/home/ubuntu/.local/lib/python3.8/site-packages/pyspark/serializers.py\", line 564, in read_int\n",
      "    raise EOFError\n",
      "EOFError\n",
      "----------------------------------------\n"
     ]
    }
   ],
   "source": [
    "udf_translate_emojies = udf(lambda text: emoji_to_words(text))\n",
    "user_regex = r'(@\\w{1,15})'\n",
    "url_regex = r'(https?:\\/\\/)?[-a-zA-Z0-9@:%._\\+~#=]{1,256}\\.[a-zA-Z0-9()]{1,6}\\b([-a-zA-Z0-9()@:%_\\+.~#?&//=]*)'\n",
    "neg_alphanumeric_regex = r'([^ a-zA-Z])'\n",
    "\n",
    "data.\\\n",
    "    withColumn('text', udf_translate_emojies(col('text'))). \\\n",
    "    withColumn('text', F.regexp_replace(col('text'), url_regex, '')). \\\n",
    "    withColumn('text', F.regexp_replace(col('text'), user_regex, '')). \\\n",
    "    withColumn('text', F.regexp_replace(col('text'), neg_alphanumeric_regex, '')). \\\n",
    "    withColumn('text', F.lower(col('text'))\n",
    ").show(5)\n"
   ]
  }
 ],
 "metadata": {
  "interpreter": {
   "hash": "916dbcbb3f70747c44a77c7bcd40155683ae19c65e1c03b4aa3499c5328201f1"
  },
  "kernelspec": {
   "display_name": "Python 3.8.10 64-bit",
   "language": "python",
   "name": "python3"
  },
  "language_info": {
   "codemirror_mode": {
    "name": "ipython",
    "version": 3
   },
   "file_extension": ".py",
   "mimetype": "text/x-python",
   "name": "python",
   "nbconvert_exporter": "python",
   "pygments_lexer": "ipython3",
   "version": "3.8.10"
  },
  "orig_nbformat": 4
 },
 "nbformat": 4,
 "nbformat_minor": 2
}
