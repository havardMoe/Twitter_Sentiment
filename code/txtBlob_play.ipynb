{
 "cells": [
  {
   "cell_type": "code",
   "execution_count": 36,
   "metadata": {},
   "outputs": [],
   "source": [
    "from textblob import TextBlob\n",
    "import emoji\n",
    "from preproc_functions import remove_url\n",
    "import re"
   ]
  },
  {
   "cell_type": "code",
   "execution_count": 26,
   "metadata": {},
   "outputs": [
    {
     "data": {
      "text/plain": [
       "\"What's is goiing onn?🤔😀🙇\\u200d♀️🏃\\u200d♀️🩰 http://google.com google.com www.nrk.no https://ola.is.the.best.art www.twolinks.afteroneanother.comhttp://nrk.no :)\""
      ]
     },
     "execution_count": 26,
     "metadata": {},
     "output_type": "execute_result"
    }
   ],
   "source": [
    "text = \"What's is goiing onn?🤔😀🙇‍♀️🏃‍♀️🩰 http://google.com google.com www.nrk.no https://ola.is.the.best.art www.twolinks.afteroneanother.comhttp://nrk.no :)\"\n",
    "text"
   ]
  },
  {
   "cell_type": "code",
   "execution_count": 27,
   "metadata": {},
   "outputs": [],
   "source": [
    "# Removig URLs:\n",
    "text = remove_url(text)"
   ]
  },
  {
   "cell_type": "code",
   "execution_count": 39,
   "metadata": {},
   "outputs": [
    {
     "data": {
      "text/plain": [
       "\"What's is goiing onn? snake_case  snake_case  snake_case  snake_case  snake_case   google.com    :)\""
      ]
     },
     "execution_count": 39,
     "metadata": {},
     "output_type": "execute_result"
    }
   ],
   "source": [
    "# translating emojies\n",
    "emoji.demojize(text)\n",
    "# emoji.get_emoji_regexp()\n",
    "text = emoji.demojize(text, delimiters=(' ', ' '))"
   ]
  },
  {
   "cell_type": "code",
   "execution_count": 42,
   "metadata": {},
   "outputs": [
    {
     "data": {
      "text/plain": [
       "\"What's is goiing onn? thinking face  grinning face  woman bowing  woman running  ballet shoes   google.com    :)\""
      ]
     },
     "execution_count": 42,
     "metadata": {},
     "output_type": "execute_result"
    }
   ],
   "source": [
    "def spaces(match):\n",
    "    return f'{match.group(1).lower()} {match.group(2).lower()}'\n",
    "re.sub(r'([a-zA-Z]+)_([a-zA-Z]+)', spaces, text)"
   ]
  },
  {
   "cell_type": "code",
   "execution_count": 9,
   "metadata": {},
   "outputs": [
    {
     "data": {
      "text/plain": [
       "TextBlob(\"That's is going on?:thinking_face: http://goose.com :)\")"
      ]
     },
     "execution_count": 9,
     "metadata": {},
     "output_type": "execute_result"
    }
   ],
   "source": [
    "# fixing spelling\n",
    "b = TextBlob(text)\n",
    "b.correct()"
   ]
  },
  {
   "cell_type": "code",
   "execution_count": null,
   "metadata": {},
   "outputs": [],
   "source": []
  }
 ],
 "metadata": {
  "interpreter": {
   "hash": "31f2aee4e71d21fbe5cf8b01ff0e069b9275f58929596ceb00d14d90e3e16cd6"
  },
  "kernelspec": {
   "display_name": "Python 3.8.10 64-bit",
   "language": "python",
   "name": "python3"
  },
  "language_info": {
   "codemirror_mode": {
    "name": "ipython",
    "version": 3
   },
   "file_extension": ".py",
   "mimetype": "text/x-python",
   "name": "python",
   "nbconvert_exporter": "python",
   "pygments_lexer": "ipython3",
   "version": "3.8.10"
  },
  "orig_nbformat": 4
 },
 "nbformat": 4,
 "nbformat_minor": 2
}
