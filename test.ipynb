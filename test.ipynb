{
 "cells": [
  {
   "cell_type": "code",
   "execution_count": 2,
   "metadata": {},
   "outputs": [],
   "source": [
    "# Establish\n",
    "# With inspiration from https://github.com/jdfoote/Intro-to-Programming-and-Data-Science/blob/fall2021/extra_topics/twitter_v2_example.ipynb\n",
    "import os\n",
    "import tweepy\n",
    "import pandas as pd\n",
    "import json\n",
    "import time\n",
    "import csv\n",
    "from datetime import datetime, timezone"
   ]
  },
  {
   "cell_type": "code",
   "execution_count": 3,
   "metadata": {},
   "outputs": [],
   "source": [
    "FETCH_NEW_TWEETS = False\n",
    "\n",
    "with open(os.path.join('..', 'keys', 'keys.json')) as f:\n",
    "    twitter_keys = json.load(f)\n",
    "\n",
    "client = tweepy.Client(bearer_token=twitter_keys['bearer_token'], wait_on_rate_limit=True)"
   ]
  },
  {
   "cell_type": "code",
   "execution_count": null,
   "metadata": {},
   "outputs": [],
   "source": [
    "def write_csv(data, name='name', new=False):\n",
    "    with open(os.path.join('data', f'{name}.csv'), 'a', encoding='utf-8') as file:\n",
    "        writer = csv.writer(file)\n",
    "        if new:  # new file, writing header\n",
    "            writer.writerow(data)\n",
    "        else:\n",
    "            writer.writerows(data)"
   ]
  },
  {
   "cell_type": "code",
   "execution_count": 1,
   "metadata": {},
   "outputs": [
    {
     "ename": "NameError",
     "evalue": "name 'datetime' is not defined",
     "output_type": "error",
     "traceback": [
      "\u001b[0;31m---------------------------------------------------------------------------\u001b[0m",
      "\u001b[0;31mNameError\u001b[0m                                 Traceback (most recent call last)",
      "\u001b[0;32m/var/folders/y5/zy_71xc51l393dlf69y7491c0000gn/T/ipykernel_23197/1334498628.py\u001b[0m in \u001b[0;36m<module>\u001b[0;34m\u001b[0m\n\u001b[1;32m      9\u001b[0m \u001b[0mquery\u001b[0m \u001b[0;34m=\u001b[0m \u001b[0;34m'ukraine russia lang:en'\u001b[0m\u001b[0;34m\u001b[0m\u001b[0;34m\u001b[0m\u001b[0m\n\u001b[1;32m     10\u001b[0m \u001b[0;34m\u001b[0m\u001b[0m\n\u001b[0;32m---> 11\u001b[0;31m \u001b[0mstart_dt\u001b[0m \u001b[0;34m=\u001b[0m \u001b[0mdatetime\u001b[0m\u001b[0;34m.\u001b[0m\u001b[0mstrptime\u001b[0m\u001b[0;34m(\u001b[0m\u001b[0mstart_time\u001b[0m\u001b[0;34m,\u001b[0m\u001b[0;34m'%Y-%m-%dT%H:%M:%SZ'\u001b[0m\u001b[0;34m)\u001b[0m\u001b[0;34m.\u001b[0m\u001b[0mreplace\u001b[0m\u001b[0;34m(\u001b[0m\u001b[0mtzinfo\u001b[0m\u001b[0;34m=\u001b[0m\u001b[0mtimezone\u001b[0m\u001b[0;34m.\u001b[0m\u001b[0mutc\u001b[0m\u001b[0;34m)\u001b[0m\u001b[0;34m\u001b[0m\u001b[0;34m\u001b[0m\u001b[0m\n\u001b[0m\u001b[1;32m     12\u001b[0m \u001b[0mend_dt\u001b[0m \u001b[0;34m=\u001b[0m \u001b[0mdatetime\u001b[0m\u001b[0;34m.\u001b[0m\u001b[0mstrptime\u001b[0m\u001b[0;34m(\u001b[0m\u001b[0mend_time\u001b[0m\u001b[0;34m,\u001b[0m\u001b[0;34m'%Y-%m-%dT%H:%M:%SZ'\u001b[0m\u001b[0;34m)\u001b[0m\u001b[0;34m.\u001b[0m\u001b[0mreplace\u001b[0m\u001b[0;34m(\u001b[0m\u001b[0mtzinfo\u001b[0m\u001b[0;34m=\u001b[0m\u001b[0mtimezone\u001b[0m\u001b[0;34m.\u001b[0m\u001b[0mutc\u001b[0m\u001b[0;34m)\u001b[0m\u001b[0;34m\u001b[0m\u001b[0;34m\u001b[0m\u001b[0m\n\u001b[1;32m     13\u001b[0m \u001b[0mtotal_days\u001b[0m \u001b[0;34m=\u001b[0m \u001b[0;34m(\u001b[0m\u001b[0mend_dt\u001b[0m \u001b[0;34m-\u001b[0m \u001b[0mstart_dt\u001b[0m\u001b[0;34m)\u001b[0m\u001b[0;34m.\u001b[0m\u001b[0mdays\u001b[0m\u001b[0;34m\u001b[0m\u001b[0;34m\u001b[0m\u001b[0m\n",
      "\u001b[0;31mNameError\u001b[0m: name 'datetime' is not defined"
     ]
    }
   ],
   "source": [
    "start_time = '2014-03-16T00:00:00Z'\n",
    "end_time = '2014-03-23T00:00:00Z'\n",
    "\n",
    "MAX_TWEETS = 100\n",
    "MAX_TWEETS_PER_FILE = 10\n",
    "tweets_in_file = 0\n",
    "total_fetched_tweets = 0\n",
    "max_tweets_per_page = 10\n",
    "query = 'ukraine russia lang:en'\n",
    "\n",
    "start_dt = datetime.strptime(start_time,'%Y-%m-%dT%H:%M:%SZ').replace(tzinfo=timezone.utc)\n",
    "end_dt = datetime.strptime(end_time,'%Y-%m-%dT%H:%M:%SZ').replace(tzinfo=timezone.utc)\n",
    "total_days = (end_dt - start_dt).days\n",
    "\n",
    "filename = ''  # gets set iteratively for each new file\n",
    "fields = ['id','text','author_id','created_at','geo']\n",
    "\n",
    "for response in tweepy.Paginator(client.search_all_tweets,\n",
    "            query = query,\n",
    "            tweet_fields = fields,\n",
    "            start_time = start_time,\n",
    "            end_time = end_time,\n",
    "            max_results=max_tweets_per_page               \n",
    "):\n",
    "    max_date = max([tweet.created_at for tweet in response.data])\n",
    "    days_fetched = (end_dt - max_date).days\n",
    "    if days_fetched % 1 == 0:\n",
    "        print(f'Fetched {days_fetched}/{total_days}, ({100*days_fetched/total_days}%)')\n",
    "\n",
    "    if tweets_in_file > MAX_TWEETS_PER_FILE or tweets_in_file == 0:\n",
    "        tweets_in_file = 0\n",
    "\n",
    "        filename = f'{max_date.strftime(\"%Y%m%d%H%M%S\")}'\n",
    "        print(f'new filename: {filename}')\n",
    "\n",
    "        write_csv(fields, filename, new=True)  # write headers to file\n",
    "        print('Created new file.')\n",
    "    \n",
    "\n",
    "    tweet_list = [[tweet.id, tweet.text.replace('\\n',' '), tweet.author_id, tweet.created_at, tweet.geo] for tweet in response.data]\n",
    "    write_csv(tweet_list, filename)\n",
    "    print('Wrote response to file.')\n",
    "    time.sleep(1)\n",
    "    tweets_in_file += response.meta['result_count']\n",
    "    total_fetched_tweets += response.meta['result_count']\n",
    "\n",
    "    if total_fetched_tweets > MAX_TWEETS:\n",
    "        break\n"
   ]
  },
  {
   "cell_type": "code",
   "execution_count": null,
   "metadata": {},
   "outputs": [],
   "source": [
    "\n",
    "f = '/Users/olaaflo/Desktop/Master Year 1/Data-Intensive-Sys/Project/Twitter_Sentiment/data/20140322224712.csv'\n",
    "with open(f, 'r') as file:\n",
    "    reader = csv.reader(file)\n",
    "    for line in reader:\n",
    "        print(line)"
   ]
  }
 ],
 "metadata": {
  "interpreter": {
   "hash": "ad9e9eb2daee000098dbe82a593671e3359c3d84087040faff4d2ccf390e5b71"
  },
  "kernelspec": {
   "display_name": "Python 3.9.10 ('test_env')",
   "language": "python",
   "name": "python3"
  },
  "language_info": {
   "codemirror_mode": {
    "name": "ipython",
    "version": 3
   },
   "file_extension": ".py",
   "mimetype": "text/x-python",
   "name": "python",
   "nbconvert_exporter": "python",
   "pygments_lexer": "ipython3",
   "version": "3.9.10"
  },
  "orig_nbformat": 4
 },
 "nbformat": 4,
 "nbformat_minor": 2
}
