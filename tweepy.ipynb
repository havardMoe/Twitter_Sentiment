{
 "cells": [
  {
   "cell_type": "code",
   "execution_count": 6,
   "metadata": {},
   "outputs": [],
   "source": [
    "# Establishing connection and authorisation:\n",
    "import os\n",
    "import tweepy\n",
    "import pandas as pd\n",
    "import json"
   ]
  },
  {
   "cell_type": "code",
   "execution_count": 7,
   "metadata": {},
   "outputs": [],
   "source": [
    "FETCH_NEW_TWEETS = False\n",
    "\n",
    "#Add your credentials here\n",
    "with open(os.path.join('..', 'keys', 'keys.json')) as f:\n",
    "    twitter_keys = json.load(f)\n",
    "\n",
    "#Setup access to API\n",
    "auth = tweepy.OAuthHandler(twitter_keys['consumer_key'], twitter_keys['consumer_secret'])\n",
    "auth.set_access_token(twitter_keys['access_token_key'], twitter_keys['access_token_secret'])\n",
    "\n",
    "api = tweepy.API(auth, wait_on_rate_limit=True)"
   ]
  },
  {
   "cell_type": "code",
   "execution_count": 8,
   "metadata": {},
   "outputs": [],
   "source": [
    "# yyyyMMddHHmm\n",
    "start_time = '201405010000'\n",
    "end_time = '201405020000'"
   ]
  },
  {
   "cell_type": "code",
   "execution_count": 9,
   "metadata": {},
   "outputs": [
    {
     "name": "stdout",
     "output_type": "stream",
     "text": [
      "did not fetch new tweets\n"
     ]
    }
   ],
   "source": [
    "if FETCH_NEW_TWEETS:\n",
    "    print('fetched new tweets')\n",
    "    tweet_results = api.search_full_archive(label='UkraineSentiment',\n",
    "                                            query='Ukraine',\n",
    "                                            fromDate=start_time, \n",
    "                                            toDate=end_time, \n",
    "                                            maxResults=10)\n",
    "    json_results = [result._json for result in tweet_results]\n",
    "    with open('output.json', 'w') as f:\n",
    "        js_format = json.dump(json_results, fp=f, indent=4, sort_keys=True)\n",
    "else:\n",
    "    print('did not fetch new tweets')\n",
    "    with open('output.json') as file:\n",
    "        json_results = json.load(file)"
   ]
  },
  {
   "cell_type": "code",
   "execution_count": 10,
   "metadata": {},
   "outputs": [
    {
     "data": {
      "text/plain": [
       "'Putin calls this POS the legitimate leader of #Ukraine\\n\\n@MsIntervention @FirstMate1060'"
      ]
     },
     "execution_count": 10,
     "metadata": {},
     "output_type": "execute_result"
    }
   ],
   "source": [
    "json_results[0]['text']"
   ]
  }
 ],
 "metadata": {
  "interpreter": {
   "hash": "ad9e9eb2daee000098dbe82a593671e3359c3d84087040faff4d2ccf390e5b71"
  },
  "kernelspec": {
   "display_name": "Python 3.9.10 ('test_env')",
   "language": "python",
   "name": "python3"
  },
  "language_info": {
   "codemirror_mode": {
    "name": "ipython",
    "version": 3
   },
   "file_extension": ".py",
   "mimetype": "text/x-python",
   "name": "python",
   "nbconvert_exporter": "python",
   "pygments_lexer": "ipython3",
   "version": "3.9.10"
  },
  "orig_nbformat": 4
 },
 "nbformat": 4,
 "nbformat_minor": 2
}
