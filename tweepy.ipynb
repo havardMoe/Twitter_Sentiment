{
 "cells": [
  {
   "cell_type": "code",
   "execution_count": 1,
   "metadata": {},
   "outputs": [],
   "source": [
    "# Establishing connection and authorisation:\n",
    "# With inspiration from https://github.com/jdfoote/Intro-to-Programming-and-Data-Science/blob/fall2021/extra_topics/twitter_v2_example.ipynb\n",
    "import os\n",
    "import tweepy\n",
    "import pandas as pd\n",
    "import json"
   ]
  },
  {
   "cell_type": "code",
   "execution_count": 3,
   "metadata": {},
   "outputs": [],
   "source": [
    "\n",
    "FETCH_NEW_TWEETS = False\n",
    "\n",
    "with open(os.path.join('..', 'keys', 'keys.json')) as f:\n",
    "    twitter_keys = json.load(f)\n",
    "\n",
    "client = tweepy.Client(bearer_token=twitter_keys['bearer_token'])"
   ]
  },
  {
   "cell_type": "code",
   "execution_count": 3,
   "metadata": {},
   "outputs": [
    {
     "name": "stdout",
     "output_type": "stream",
     "text": [
      "@Freed0m_machine's account is temporarily unavailable because it violates the Twitter Media Policy. Learn more.\n",
      "None\n",
      "RT @Mikado_BE: Il ya 723 ans les Suisses se sont battus pour la liberté avec Gessler. 2014 les #Ukraine avec  Poutine #fêtesnational http:/…\n",
      "None\n",
      "RT @gbazov: #IMPORTANT - PLZ RT WIDELY - Urgent Statement by Strelkov and Antjufeev, July 31, 2014 - #NOVOROSSIYA #UKRAINE http://t.co/XZwZ…\n",
      "None\n",
      "Instagram pictures suggest Russian soldier served in Ukraine - http://t.co/3QX85hMyyg http://t.co/y2kS65lpUp #instagram\n",
      "None\n",
      "This is no \"#Russian mercenary\", but a regular Russian soldier from St. Petersburg.\n",
      "http://t.co/DXxTs6Osmt @MiddleEast_BRK | EMPR #Ukraine\n",
      "None\n",
      "@airegeek @Nupe117 @DylanBasescu @cspanwj Israel worse than Gestapo// but closer to Ukraine, Croatia nazis. Gestapo followed strict orders\n",
      "None\n",
      "RT @StateOfUkraine: #Ukraine may be upbeat about recent military gains, but #Russia's latest shipment of arms and men indicates that the wa…\n",
      "None\n",
      "RT @LucyKafanov: Fantastic reporting from AP's @pete_leonard on what happened the day #FlightMH17 was shot out of the sky in #Ukraine http:…\n",
      "None\n",
      "RT @Catherina_News: TT @zarde2006: #LNR #Pervomaisk. Militia rescuing civilians. 31.07.2014: http://t.co/cJLaeyAtRn #Ukraine #SaveDonbassPe…\n",
      "None\n",
      "http://t.co/dnrsEMLPUU\n",
      "None\n",
      "&amp;quot;Боинга&amp;quot; http://t.co/XE8E94XxGC\n",
      "None\n",
      "@Freed0m_machine's account is temporarily unavailable because it violates the Twitter Media Policy. Learn more.\n",
      "None\n",
      "Putin's 3 Ukraine options by @Stanovaya: 1) mediate 2) \"soft plums\" 3) leave. Thank you Bing translator http://t.co/m4CAaFndnH HT @jabolins\n",
      "None\n",
      "RT @ZaRdOz420WPN: URGENT! \n",
      "#FalseFlag \n",
      "Strelkov warns about planned provocation by #Ukraine. \n",
      "\n",
      " http://t.co/LdcHJUgiaA @Novorossiyan\n",
      "None\n",
      "@NCOzzyFan @ABCWorldNews @DrRichardBesser He's too worried about what Ukraine and Russia are doing.\n",
      "None\n",
      "RT @VagelisKarmiros: #Ukraine #Kiev Makeshift monument to #Maidan in #Kiev is on fire. http://t.co/Eqisv1TN8J\n",
      "None\n",
      "RT @PaulaChertok: Nice wordplay in Polish press: Bloodymir Putin the Terrible http://t.co/pShxbVgvvt http://t.co/xYVRDbK9AO via @belpartisa…\n",
      "None\n",
      "RT @morten: Selfie-addicted Russian soldier caught in Ukraine by Instagram geo-tagging http://t.co/SgEDK69Kdw #Russia #Ukraine\n",
      "None\n",
      "Ukraine Chooses the West - Wall Street Journal\n",
      "None\n",
      "RT @BurtRambeau: Most #Americans can't find #Ukraine on a map, and don't get started on how we spell it...\n",
      "None\n"
     ]
    }
   ],
   "source": [
    "if FETCH_NEW_TWEETS:\n",
    "\n",
    "    # Replace with your own search query\n",
    "    query = 'Ukraine'\n",
    "\n",
    "    # Replace with time period of your choice\n",
    "    start_time = '2014-01-01T00:00:00Z'\n",
    "\n",
    "    # Replace with time period of your choice\n",
    "    end_time = '2014-08-01T00:00:00Z'\n",
    "\n",
    "    tweet_results = client.search_all_tweets(query=query,\n",
    "                                    start_time=start_time,\n",
    "                                    end_time=end_time, max_results=20)\n",
    "\n",
    "    json_results =  [result._json for result in tweet_results]\n",
    "    with open('output.json', 'w') as f:\n",
    "        js_format = json.dump(json_results, fp=f, indent=4, sort_keys=True)\n",
    "\n",
    "else:\n",
    "    print('did not fetch new tweets')\n",
    "    with open('output.json') as file:\n",
    "        json_results = json.load(file)\n"
   ]
  }
 ],
 "metadata": {
  "interpreter": {
   "hash": "ad9e9eb2daee000098dbe82a593671e3359c3d84087040faff4d2ccf390e5b71"
  },
  "kernelspec": {
   "display_name": "Python 3.9.10 ('test_env')",
   "language": "python",
   "name": "python3"
  },
  "language_info": {
   "codemirror_mode": {
    "name": "ipython",
    "version": 3
   },
   "file_extension": ".py",
   "mimetype": "text/x-python",
   "name": "python",
   "nbconvert_exporter": "python",
   "pygments_lexer": "ipython3",
   "version": "3.9.10"
  },
  "orig_nbformat": 4
 },
 "nbformat": 4,
 "nbformat_minor": 2
}
